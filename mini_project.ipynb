{
  "cells": [
    {
      "attachments": {},
      "cell_type": "markdown",
      "metadata": {},
      "source": [
        "We have to predict closing price of stocks of indian stock market.\n"
      ]
    },
    {
      "cell_type": "code",
      "execution_count": 2,
      "metadata": {
        "id": "gwkgkKEjTA-6"
      },
      "outputs": [],
      "source": [
        "import pandas as pd\n",
        "pd.plotting.register_matplotlib_converters()\n"
      ]
    },
    {
      "attachments": {},
      "cell_type": "markdown",
      "metadata": {
        "id": "EAZvBSpEVbHe"
      },
      "source": [
        "* We have taken data from google finance\n",
        "* This project involves forecasting stocks closing price\n"
      ]
    },
    {
      "cell_type": "code",
      "execution_count": 5,
      "metadata": {
        "id": "zhriCbzKPqtM"
      },
      "outputs": [
        {
          "data": {
            "text/html": [
              "<div>\n",
              "<style scoped>\n",
              "    .dataframe tbody tr th:only-of-type {\n",
              "        vertical-align: middle;\n",
              "    }\n",
              "\n",
              "    .dataframe tbody tr th {\n",
              "        vertical-align: top;\n",
              "    }\n",
              "\n",
              "    .dataframe thead th {\n",
              "        text-align: right;\n",
              "    }\n",
              "</style>\n",
              "<table border=\"1\" class=\"dataframe\">\n",
              "  <thead>\n",
              "    <tr style=\"text-align: right;\">\n",
              "      <th></th>\n",
              "      <th>Open</th>\n",
              "      <th>High</th>\n",
              "      <th>Low</th>\n",
              "      <th>Close</th>\n",
              "    </tr>\n",
              "    <tr>\n",
              "      <th>Date</th>\n",
              "      <th></th>\n",
              "      <th></th>\n",
              "      <th></th>\n",
              "      <th></th>\n",
              "    </tr>\n",
              "  </thead>\n",
              "  <tbody>\n",
              "    <tr>\n",
              "      <th>07/05/2021 15:30:00</th>\n",
              "      <td>14816.85</td>\n",
              "      <td>14863.05</td>\n",
              "      <td>14765.5</td>\n",
              "      <td>14823.15</td>\n",
              "    </tr>\n",
              "    <tr>\n",
              "      <th>10/05/2021 15:30:00</th>\n",
              "      <td>14928.25</td>\n",
              "      <td>14966.90</td>\n",
              "      <td>14892.5</td>\n",
              "      <td>14942.35</td>\n",
              "    </tr>\n",
              "    <tr>\n",
              "      <th>11/05/2021 15:30:00</th>\n",
              "      <td>14789.70</td>\n",
              "      <td>14900.00</td>\n",
              "      <td>14771.4</td>\n",
              "      <td>14850.75</td>\n",
              "    </tr>\n",
              "    <tr>\n",
              "      <th>12/05/2021 15:30:00</th>\n",
              "      <td>14823.55</td>\n",
              "      <td>14824.05</td>\n",
              "      <td>14649.7</td>\n",
              "      <td>14696.50</td>\n",
              "    </tr>\n",
              "    <tr>\n",
              "      <th>14/05/2021 15:30:00</th>\n",
              "      <td>14749.40</td>\n",
              "      <td>14749.65</td>\n",
              "      <td>14591.9</td>\n",
              "      <td>14677.80</td>\n",
              "    </tr>\n",
              "  </tbody>\n",
              "</table>\n",
              "</div>"
            ],
            "text/plain": [
              "                         Open      High      Low     Close\n",
              "Date                                                      \n",
              "07/05/2021 15:30:00  14816.85  14863.05  14765.5  14823.15\n",
              "10/05/2021 15:30:00  14928.25  14966.90  14892.5  14942.35\n",
              "11/05/2021 15:30:00  14789.70  14900.00  14771.4  14850.75\n",
              "12/05/2021 15:30:00  14823.55  14824.05  14649.7  14696.50\n",
              "14/05/2021 15:30:00  14749.40  14749.65  14591.9  14677.80"
            ]
          },
          "execution_count": 5,
          "metadata": {},
          "output_type": "execute_result"
        }
      ],
      "source": [
        "df=pd.read_csv(\"./data/nifty50.csv\",index_col=\"Date\",parse_dates=[\"Date\"])\n",
        "df.head()"
      ]
    }
  ],
  "metadata": {
    "colab": {
      "gpuType": "T4",
      "provenance": []
    },
    "gpuClass": "standard",
    "kernelspec": {
      "display_name": "Python 3",
      "name": "python3"
    },
    "language_info": {
      "codemirror_mode": {
        "name": "ipython",
        "version": 3
      },
      "file_extension": ".py",
      "mimetype": "text/x-python",
      "name": "python",
      "nbconvert_exporter": "python",
      "pygments_lexer": "ipython3",
      "version": "3.11.2"
    }
  },
  "nbformat": 4,
  "nbformat_minor": 0
}
