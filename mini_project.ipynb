{
 "cells": [
  {
   "cell_type": "code",
   "execution_count": 1,
   "id": "223128a4",
   "metadata": {
    "execution": {
     "iopub.execute_input": "2023-05-18T15:16:11.739110Z",
     "iopub.status.busy": "2023-05-18T15:16:11.738621Z",
     "iopub.status.idle": "2023-05-18T15:16:11.750624Z",
     "shell.execute_reply": "2023-05-18T15:16:11.749457Z"
    },
    "papermill": {
     "duration": 0.028263,
     "end_time": "2023-05-18T15:16:11.753526",
     "exception": false,
     "start_time": "2023-05-18T15:16:11.725263",
     "status": "completed"
    },
    "tags": []
   },
   "outputs": [],
   "source": [
    "pred_lapse=4\n",
    "window_size = 52"
   ]
  },
  {
   "cell_type": "code",
   "execution_count": 2,
   "id": "de9ec148",
   "metadata": {
    "_kg_hide-output": true,
    "execution": {
     "iopub.execute_input": "2023-05-18T15:16:11.774051Z",
     "iopub.status.busy": "2023-05-18T15:16:11.773028Z",
     "iopub.status.idle": "2023-05-18T15:16:43.126225Z",
     "shell.execute_reply": "2023-05-18T15:16:43.124577Z"
    },
    "papermill": {
     "duration": 31.366776,
     "end_time": "2023-05-18T15:16:43.129090",
     "exception": false,
     "start_time": "2023-05-18T15:16:11.762314",
     "status": "completed"
    },
    "tags": []
   },
   "outputs": [
    {
     "name": "stdout",
     "output_type": "stream",
     "text": [
      "Collecting yfinance\r\n",
      "  Downloading yfinance-0.2.18-py2.py3-none-any.whl (60 kB)\r\n",
      "\u001b[2K     \u001b[90m━━━━━━━━━━━━━━━━━━━━━━━━━━━━━━━━━━━━━━━━\u001b[0m \u001b[32m60.3/60.3 kB\u001b[0m \u001b[31m1.8 MB/s\u001b[0m eta \u001b[36m0:00:00\u001b[0m\r\n",
      "\u001b[?25hRequirement already satisfied: pandas>=1.3.0 in /opt/conda/lib/python3.10/site-packages (from yfinance) (1.5.3)\r\n",
      "Requirement already satisfied: requests>=2.26 in /opt/conda/lib/python3.10/site-packages (from yfinance) (2.28.2)\r\n",
      "Requirement already satisfied: cryptography>=3.3.2 in /opt/conda/lib/python3.10/site-packages (from yfinance) (40.0.1)\r\n",
      "Requirement already satisfied: html5lib>=1.1 in /opt/conda/lib/python3.10/site-packages (from yfinance) (1.1)\r\n",
      "Collecting multitasking>=0.0.7\r\n",
      "  Downloading multitasking-0.0.11-py3-none-any.whl (8.5 kB)\r\n",
      "Requirement already satisfied: lxml>=4.9.1 in /opt/conda/lib/python3.10/site-packages (from yfinance) (4.9.2)\r\n",
      "Requirement already satisfied: beautifulsoup4>=4.11.1 in /opt/conda/lib/python3.10/site-packages (from yfinance) (4.12.2)\r\n",
      "Requirement already satisfied: pytz>=2022.5 in /opt/conda/lib/python3.10/site-packages (from yfinance) (2023.3)\r\n",
      "Requirement already satisfied: frozendict>=2.3.4 in /opt/conda/lib/python3.10/site-packages (from yfinance) (2.3.7)\r\n",
      "Requirement already satisfied: appdirs>=1.4.4 in /opt/conda/lib/python3.10/site-packages (from yfinance) (1.4.4)\r\n",
      "Requirement already satisfied: numpy>=1.16.5 in /opt/conda/lib/python3.10/site-packages (from yfinance) (1.23.5)\r\n",
      "Requirement already satisfied: soupsieve>1.2 in /opt/conda/lib/python3.10/site-packages (from beautifulsoup4>=4.11.1->yfinance) (2.4)\r\n",
      "Requirement already satisfied: cffi>=1.12 in /opt/conda/lib/python3.10/site-packages (from cryptography>=3.3.2->yfinance) (1.15.1)\r\n",
      "Requirement already satisfied: six>=1.9 in /opt/conda/lib/python3.10/site-packages (from html5lib>=1.1->yfinance) (1.16.0)\r\n",
      "Requirement already satisfied: webencodings in /opt/conda/lib/python3.10/site-packages (from html5lib>=1.1->yfinance) (0.5.1)\r\n",
      "Requirement already satisfied: python-dateutil>=2.8.1 in /opt/conda/lib/python3.10/site-packages (from pandas>=1.3.0->yfinance) (2.8.2)\r\n",
      "Requirement already satisfied: charset-normalizer<4,>=2 in /opt/conda/lib/python3.10/site-packages (from requests>=2.26->yfinance) (2.1.1)\r\n",
      "Requirement already satisfied: certifi>=2017.4.17 in /opt/conda/lib/python3.10/site-packages (from requests>=2.26->yfinance) (2022.12.7)\r\n",
      "Requirement already satisfied: urllib3<1.27,>=1.21.1 in /opt/conda/lib/python3.10/site-packages (from requests>=2.26->yfinance) (1.26.15)\r\n",
      "Requirement already satisfied: idna<4,>=2.5 in /opt/conda/lib/python3.10/site-packages (from requests>=2.26->yfinance) (3.4)\r\n",
      "Requirement already satisfied: pycparser in /opt/conda/lib/python3.10/site-packages (from cffi>=1.12->cryptography>=3.3.2->yfinance) (2.21)\r\n",
      "Installing collected packages: multitasking, yfinance\r\n",
      "Successfully installed multitasking-0.0.11 yfinance-0.2.18\r\n",
      "\u001b[33mWARNING: Running pip as the 'root' user can result in broken permissions and conflicting behaviour with the system package manager. It is recommended to use a virtual environment instead: https://pip.pypa.io/warnings/venv\u001b[0m\u001b[33m\r\n",
      "\u001b[0mNote: you may need to restart the kernel to use updated packages.\n",
      "Collecting pmdarima\r\n",
      "  Downloading pmdarima-2.0.3-cp310-cp310-manylinux_2_17_x86_64.manylinux2014_x86_64.manylinux_2_28_x86_64.whl (1.8 MB)\r\n",
      "\u001b[2K     \u001b[90m━━━━━━━━━━━━━━━━━━━━━━━━━━━━━━━━━━━━━━━━\u001b[0m \u001b[32m1.8/1.8 MB\u001b[0m \u001b[31m16.5 MB/s\u001b[0m eta \u001b[36m0:00:00\u001b[0m\r\n",
      "\u001b[?25hRequirement already satisfied: scipy>=1.3.2 in /opt/conda/lib/python3.10/site-packages (from pmdarima) (1.9.3)\r\n",
      "Requirement already satisfied: urllib3 in /opt/conda/lib/python3.10/site-packages (from pmdarima) (1.26.15)\r\n",
      "Requirement already satisfied: pandas>=0.19 in /opt/conda/lib/python3.10/site-packages (from pmdarima) (1.5.3)\r\n",
      "Requirement already satisfied: setuptools!=50.0.0,>=38.6.0 in /opt/conda/lib/python3.10/site-packages (from pmdarima) (59.8.0)\r\n",
      "Requirement already satisfied: numpy>=1.21.2 in /opt/conda/lib/python3.10/site-packages (from pmdarima) (1.23.5)\r\n",
      "Requirement already satisfied: joblib>=0.11 in /opt/conda/lib/python3.10/site-packages (from pmdarima) (1.2.0)\r\n",
      "Requirement already satisfied: Cython!=0.29.18,!=0.29.31,>=0.29 in /opt/conda/lib/python3.10/site-packages (from pmdarima) (0.29.34)\r\n",
      "Requirement already satisfied: scikit-learn>=0.22 in /opt/conda/lib/python3.10/site-packages (from pmdarima) (1.2.2)\r\n",
      "Requirement already satisfied: statsmodels>=0.13.2 in /opt/conda/lib/python3.10/site-packages (from pmdarima) (0.13.5)\r\n",
      "Requirement already satisfied: python-dateutil>=2.8.1 in /opt/conda/lib/python3.10/site-packages (from pandas>=0.19->pmdarima) (2.8.2)\r\n",
      "Requirement already satisfied: pytz>=2020.1 in /opt/conda/lib/python3.10/site-packages (from pandas>=0.19->pmdarima) (2023.3)\r\n",
      "Requirement already satisfied: threadpoolctl>=2.0.0 in /opt/conda/lib/python3.10/site-packages (from scikit-learn>=0.22->pmdarima) (3.1.0)\r\n",
      "Requirement already satisfied: patsy>=0.5.2 in /opt/conda/lib/python3.10/site-packages (from statsmodels>=0.13.2->pmdarima) (0.5.3)\r\n",
      "Requirement already satisfied: packaging>=21.3 in /opt/conda/lib/python3.10/site-packages (from statsmodels>=0.13.2->pmdarima) (21.3)\r\n",
      "Requirement already satisfied: pyparsing!=3.0.5,>=2.0.2 in /opt/conda/lib/python3.10/site-packages (from packaging>=21.3->statsmodels>=0.13.2->pmdarima) (3.0.9)\r\n",
      "Requirement already satisfied: six in /opt/conda/lib/python3.10/site-packages (from patsy>=0.5.2->statsmodels>=0.13.2->pmdarima) (1.16.0)\r\n",
      "Installing collected packages: pmdarima\r\n",
      "Successfully installed pmdarima-2.0.3\r\n",
      "\u001b[33mWARNING: Running pip as the 'root' user can result in broken permissions and conflicting behaviour with the system package manager. It is recommended to use a virtual environment instead: https://pip.pypa.io/warnings/venv\u001b[0m\u001b[33m\r\n",
      "\u001b[0mNote: you may need to restart the kernel to use updated packages.\n"
     ]
    }
   ],
   "source": [
    "%pip install yfinance\n",
    "%pip install pmdarima\n"
   ]
  },
  {
   "cell_type": "markdown",
   "id": "2c20b12a",
   "metadata": {
    "papermill": {
     "duration": 0.010611,
     "end_time": "2023-05-18T15:16:43.151208",
     "exception": false,
     "start_time": "2023-05-18T15:16:43.140597",
     "status": "completed"
    },
    "tags": []
   },
   "source": [
    "Our target is to predict next 4th week close using current data"
   ]
  },
  {
   "cell_type": "code",
   "execution_count": 3,
   "id": "400e3b65",
   "metadata": {
    "execution": {
     "iopub.execute_input": "2023-05-18T15:16:43.174837Z",
     "iopub.status.busy": "2023-05-18T15:16:43.174393Z",
     "iopub.status.idle": "2023-05-18T15:16:44.684512Z",
     "shell.execute_reply": "2023-05-18T15:16:44.683376Z"
    },
    "papermill": {
     "duration": 1.525553,
     "end_time": "2023-05-18T15:16:44.687462",
     "exception": false,
     "start_time": "2023-05-18T15:16:43.161909",
     "status": "completed"
    },
    "tags": []
   },
   "outputs": [
    {
     "name": "stderr",
     "output_type": "stream",
     "text": [
      "/opt/conda/lib/python3.10/site-packages/scipy/__init__.py:146: UserWarning: A NumPy version >=1.16.5 and <1.23.0 is required for this version of SciPy (detected version 1.23.5\n",
      "  warnings.warn(f\"A NumPy version >={np_minversion} and <{np_maxversion}\"\n"
     ]
    }
   ],
   "source": [
    "import matplotlib.pyplot as plt\n",
    "import numpy as np\n",
    "import pandas as pd\n",
    "from sklearn.model_selection import train_test_split"
   ]
  },
  {
   "cell_type": "markdown",
   "id": "91124ce1",
   "metadata": {
    "papermill": {
     "duration": 0.010763,
     "end_time": "2023-05-18T15:16:44.710769",
     "exception": false,
     "start_time": "2023-05-18T15:16:44.700006",
     "status": "completed"
    },
    "tags": []
   },
   "source": [
    "# Importing data"
   ]
  },
  {
   "cell_type": "code",
   "execution_count": 4,
   "id": "06154b84",
   "metadata": {
    "execution": {
     "iopub.execute_input": "2023-05-18T15:16:44.737664Z",
     "iopub.status.busy": "2023-05-18T15:16:44.737129Z",
     "iopub.status.idle": "2023-05-18T15:16:45.751789Z",
     "shell.execute_reply": "2023-05-18T15:16:45.750493Z"
    },
    "papermill": {
     "duration": 1.031563,
     "end_time": "2023-05-18T15:16:45.754571",
     "exception": false,
     "start_time": "2023-05-18T15:16:44.723008",
     "status": "completed"
    },
    "tags": []
   },
   "outputs": [
    {
     "data": {
      "text/html": [
       "<div>\n",
       "<style scoped>\n",
       "    .dataframe tbody tr th:only-of-type {\n",
       "        vertical-align: middle;\n",
       "    }\n",
       "\n",
       "    .dataframe tbody tr th {\n",
       "        vertical-align: top;\n",
       "    }\n",
       "\n",
       "    .dataframe thead th {\n",
       "        text-align: right;\n",
       "    }\n",
       "</style>\n",
       "<table border=\"1\" class=\"dataframe\">\n",
       "  <thead>\n",
       "    <tr style=\"text-align: right;\">\n",
       "      <th></th>\n",
       "      <th>Open</th>\n",
       "      <th>High</th>\n",
       "      <th>Low</th>\n",
       "      <th>Close</th>\n",
       "      <th>Adj Close</th>\n",
       "      <th>Volume</th>\n",
       "      <th>4th Close</th>\n",
       "    </tr>\n",
       "    <tr>\n",
       "      <th>Date</th>\n",
       "      <th></th>\n",
       "      <th></th>\n",
       "      <th></th>\n",
       "      <th></th>\n",
       "      <th></th>\n",
       "      <th></th>\n",
       "      <th></th>\n",
       "    </tr>\n",
       "  </thead>\n",
       "  <tbody>\n",
       "    <tr>\n",
       "      <th>2019-12-30</th>\n",
       "      <td>1503.745972</td>\n",
       "      <td>1527.173950</td>\n",
       "      <td>1491.363403</td>\n",
       "      <td>1522.716187</td>\n",
       "      <td>1507.616455</td>\n",
       "      <td>24320802</td>\n",
       "      <td>1370.360352</td>\n",
       "    </tr>\n",
       "    <tr>\n",
       "      <th>2020-01-06</th>\n",
       "      <td>1505.727173</td>\n",
       "      <td>1543.320801</td>\n",
       "      <td>1483.933838</td>\n",
       "      <td>1533.117554</td>\n",
       "      <td>1517.914795</td>\n",
       "      <td>39094482</td>\n",
       "      <td>1420.187988</td>\n",
       "    </tr>\n",
       "    <tr>\n",
       "      <th>2020-01-13</th>\n",
       "      <td>1530.541992</td>\n",
       "      <td>1570.067383</td>\n",
       "      <td>1503.993652</td>\n",
       "      <td>1566.154419</td>\n",
       "      <td>1550.623901</td>\n",
       "      <td>42563308</td>\n",
       "      <td>1473.631470</td>\n",
       "    </tr>\n",
       "    <tr>\n",
       "      <th>2020-01-20</th>\n",
       "      <td>1593.891479</td>\n",
       "      <td>1593.891479</td>\n",
       "      <td>1504.290771</td>\n",
       "      <td>1507.262695</td>\n",
       "      <td>1492.316162</td>\n",
       "      <td>40458568</td>\n",
       "      <td>1471.996948</td>\n",
       "    </tr>\n",
       "    <tr>\n",
       "      <th>2020-01-27</th>\n",
       "      <td>1500.675049</td>\n",
       "      <td>1510.135376</td>\n",
       "      <td>1358.225342</td>\n",
       "      <td>1370.360352</td>\n",
       "      <td>1356.771484</td>\n",
       "      <td>66424087</td>\n",
       "      <td>1316.173950</td>\n",
       "    </tr>\n",
       "  </tbody>\n",
       "</table>\n",
       "</div>"
      ],
      "text/plain": [
       "                   Open         High          Low        Close    Adj Close  \\\n",
       "Date                                                                          \n",
       "2019-12-30  1503.745972  1527.173950  1491.363403  1522.716187  1507.616455   \n",
       "2020-01-06  1505.727173  1543.320801  1483.933838  1533.117554  1517.914795   \n",
       "2020-01-13  1530.541992  1570.067383  1503.993652  1566.154419  1550.623901   \n",
       "2020-01-20  1593.891479  1593.891479  1504.290771  1507.262695  1492.316162   \n",
       "2020-01-27  1500.675049  1510.135376  1358.225342  1370.360352  1356.771484   \n",
       "\n",
       "              Volume    4th Close  \n",
       "Date                               \n",
       "2019-12-30  24320802  1370.360352  \n",
       "2020-01-06  39094482  1420.187988  \n",
       "2020-01-13  42563308  1473.631470  \n",
       "2020-01-20  40458568  1471.996948  \n",
       "2020-01-27  66424087  1316.173950  "
      ]
     },
     "execution_count": 4,
     "metadata": {},
     "output_type": "execute_result"
    }
   ],
   "source": [
    "import yfinance as yf\n",
    "import datetime\n",
    "\n",
    "start_date = datetime.date(2020,1, 1)\n",
    "end_date = datetime.date.today()\n",
    "\n",
    "ticker = \"RELIANCE.NS\"\n",
    "data = yf.download(ticker, start=start_date,interval='1wk',\n",
    "                      end=end_date, progress=False)\n",
    "# data = data.resample(\"W\").agg({\"Open\": \"first\", \"High\": \"max\", \"Low\": \"min\", \"Close\": \"last\"})\n",
    "data['4th Close']=data['Close'].shift(-pred_lapse)\n",
    "data=data.dropna()\n",
    "data.head()"
   ]
  },
  {
   "cell_type": "markdown",
   "id": "5abc56e1",
   "metadata": {
    "papermill": {
     "duration": 0.010866,
     "end_time": "2023-05-18T15:16:45.776514",
     "exception": false,
     "start_time": "2023-05-18T15:16:45.765648",
     "status": "completed"
    },
    "tags": []
   },
   "source": [
    "Taking data in weekly timeframe\n",
    "The reason why we are converting to weekly timeframe is that higher the timeframe, lower is the noise and hence increases predictability of the model. "
   ]
  },
  {
   "cell_type": "code",
   "execution_count": 5,
   "id": "21c7a919",
   "metadata": {
    "execution": {
     "iopub.execute_input": "2023-05-18T15:16:45.801245Z",
     "iopub.status.busy": "2023-05-18T15:16:45.800458Z",
     "iopub.status.idle": "2023-05-18T15:16:45.807808Z",
     "shell.execute_reply": "2023-05-18T15:16:45.806526Z"
    },
    "papermill": {
     "duration": 0.023013,
     "end_time": "2023-05-18T15:16:45.810597",
     "exception": false,
     "start_time": "2023-05-18T15:16:45.787584",
     "status": "completed"
    },
    "tags": []
   },
   "outputs": [],
   "source": [
    "data_train,data_test=train_test_split(data.copy(),test_size=0.33,shuffle=False)"
   ]
  },
  {
   "cell_type": "code",
   "execution_count": 6,
   "id": "58ca8841",
   "metadata": {
    "execution": {
     "iopub.execute_input": "2023-05-18T15:16:45.837326Z",
     "iopub.status.busy": "2023-05-18T15:16:45.836832Z",
     "iopub.status.idle": "2023-05-18T15:16:48.036624Z",
     "shell.execute_reply": "2023-05-18T15:16:48.035346Z"
    },
    "papermill": {
     "duration": 2.216724,
     "end_time": "2023-05-18T15:16:48.039796",
     "exception": false,
     "start_time": "2023-05-18T15:16:45.823072",
     "status": "completed"
    },
    "tags": []
   },
   "outputs": [],
   "source": [
    "from sklearn.pipeline import Pipeline\n",
    "from sklearn.svm import SVR\n",
    "from pmdarima.arima import AutoARIMA\n",
    "from pmdarima.arima import ARIMA\n",
    "from pmdarima.pipeline import Pipeline as arPipeline\n",
    "from pmdarima.arima import auto_arima\n",
    "from pmdarima.preprocessing import LogEndogTransformer\n",
    "from sklearn.preprocessing import StandardScaler\n",
    "from sklearn.model_selection import TimeSeriesSplit\n",
    "from sklearn.metrics import mean_absolute_error,mean_absolute_percentage_error"
   ]
  },
  {
   "cell_type": "markdown",
   "id": "abb07776",
   "metadata": {
    "execution": {
     "iopub.execute_input": "2023-05-16T22:58:45.685692Z",
     "iopub.status.busy": "2023-05-16T22:58:45.684518Z",
     "iopub.status.idle": "2023-05-16T22:58:45.705682Z",
     "shell.execute_reply": "2023-05-16T22:58:45.703162Z",
     "shell.execute_reply.started": "2023-05-16T22:58:45.685656Z"
    },
    "papermill": {
     "duration": 0.012368,
     "end_time": "2023-05-18T15:16:48.063595",
     "exception": false,
     "start_time": "2023-05-18T15:16:48.051227",
     "status": "completed"
    },
    "tags": []
   },
   "source": [
    "getting parameters of arima model"
   ]
  },
  {
   "cell_type": "code",
   "execution_count": 7,
   "id": "d71796af",
   "metadata": {
    "execution": {
     "iopub.execute_input": "2023-05-18T15:16:48.088962Z",
     "iopub.status.busy": "2023-05-18T15:16:48.088507Z",
     "iopub.status.idle": "2023-05-18T15:16:55.129328Z",
     "shell.execute_reply": "2023-05-18T15:16:55.127511Z"
    },
    "papermill": {
     "duration": 7.059394,
     "end_time": "2023-05-18T15:16:55.134835",
     "exception": false,
     "start_time": "2023-05-18T15:16:48.075441",
     "status": "completed"
    },
    "tags": []
   },
   "outputs": [
    {
     "name": "stdout",
     "output_type": "stream",
     "text": [
      " ARIMA(0,1,0)(0,0,0)[1] intercept   : AIC=1330.456, Time=0.09 sec\n",
      " ARIMA(0,1,1)(0,0,0)[1] intercept   : AIC=1332.271, Time=0.19 sec\n",
      " ARIMA(0,1,2)(0,0,0)[1] intercept   : AIC=1333.681, Time=0.27 sec\n",
      " ARIMA(0,1,3)(0,0,0)[1] intercept   : AIC=1335.665, Time=0.35 sec\n",
      " ARIMA(0,1,4)(0,0,0)[1] intercept   : AIC=1337.536, Time=0.33 sec\n",
      " ARIMA(0,1,5)(0,0,0)[1] intercept   : AIC=1339.538, Time=0.37 sec\n",
      " ARIMA(1,1,0)(0,0,0)[1] intercept   : AIC=1332.249, Time=0.07 sec\n",
      " ARIMA(1,1,1)(0,0,0)[1] intercept   : AIC=1334.015, Time=0.19 sec\n",
      " ARIMA(1,1,2)(0,0,0)[1] intercept   : AIC=1335.645, Time=0.33 sec\n",
      " ARIMA(1,1,3)(0,0,0)[1] intercept   : AIC=1337.646, Time=0.39 sec\n",
      " ARIMA(1,1,4)(0,0,0)[1] intercept   : AIC=1339.536, Time=0.51 sec\n",
      " ARIMA(2,1,0)(0,0,0)[1] intercept   : AIC=1333.674, Time=0.18 sec\n",
      " ARIMA(2,1,1)(0,0,0)[1] intercept   : AIC=1335.646, Time=0.22 sec\n",
      " ARIMA(2,1,2)(0,0,0)[1] intercept   : AIC=1337.645, Time=0.48 sec\n",
      " ARIMA(2,1,3)(0,0,0)[1] intercept   : AIC=1339.585, Time=1.02 sec\n",
      " ARIMA(3,1,0)(0,0,0)[1] intercept   : AIC=1335.650, Time=0.21 sec\n",
      " ARIMA(3,1,1)(0,0,0)[1] intercept   : AIC=1337.650, Time=0.35 sec\n",
      " ARIMA(3,1,2)(0,0,0)[1] intercept   : AIC=1339.641, Time=0.52 sec\n",
      " ARIMA(4,1,0)(0,0,0)[1] intercept   : AIC=1337.642, Time=0.27 sec\n",
      " ARIMA(4,1,1)(0,0,0)[1] intercept   : AIC=1339.640, Time=0.27 sec\n",
      " ARIMA(5,1,0)(0,0,0)[1] intercept   : AIC=1339.616, Time=0.36 sec\n",
      "\n",
      "Best model:  ARIMA(0,1,0)(0,0,0)[1] intercept\n",
      "Total fit time: 7.023 seconds\n",
      "(0, 1, 0)\n",
      "(0, 0, 0, 1)\n"
     ]
    }
   ],
   "source": [
    "auto = auto_arima(data_train['4th Close'], stepwise=False,seasonal=True,max_d=5,max_p=window_size,\n",
    "                     suppress_warnings=True, error_action=\"ignore\", trace=True,max_P=10,max_D=10,max_Q=10)\n",
    "print(auto.order)\n",
    "print(auto.seasonal_order)"
   ]
  },
  {
   "cell_type": "markdown",
   "id": "74beb57f",
   "metadata": {
    "papermill": {
     "duration": 0.027104,
     "end_time": "2023-05-18T15:16:55.189648",
     "exception": false,
     "start_time": "2023-05-18T15:16:55.162544",
     "status": "completed"
    },
    "tags": []
   },
   "source": [
    "adding values predicted by ARIMA to X_train to train SVM on this"
   ]
  },
  {
   "cell_type": "code",
   "execution_count": 8,
   "id": "cd2ff1c3",
   "metadata": {
    "execution": {
     "iopub.execute_input": "2023-05-18T15:16:55.227155Z",
     "iopub.status.busy": "2023-05-18T15:16:55.226690Z",
     "iopub.status.idle": "2023-05-18T15:16:56.993142Z",
     "shell.execute_reply": "2023-05-18T15:16:56.991245Z"
    },
    "papermill": {
     "duration": 1.78396,
     "end_time": "2023-05-18T15:16:56.996344",
     "exception": false,
     "start_time": "2023-05-18T15:16:55.212384",
     "status": "completed"
    },
    "tags": []
   },
   "outputs": [
    {
     "name": "stdout",
     "output_type": "stream",
     "text": [
      "Date\n",
      "2020-12-28     2036.78177\n",
      "2021-01-04    2028.377133\n",
      "2021-01-11     1965.93561\n",
      "2021-01-18    1975.981027\n",
      "2021-01-25    2115.345971\n",
      "                 ...     \n",
      "2022-02-07     2355.68911\n",
      "2022-02-14    2401.332713\n",
      "2022-02-21    2453.170485\n",
      "2022-02-28    2292.415867\n",
      "2022-03-07    2340.971087\n",
      "Name: arima, Length: 63, dtype: object\n"
     ]
    },
    {
     "data": {
      "text/plain": [
       "7.076458069921621"
      ]
     },
     "execution_count": 8,
     "metadata": {},
     "output_type": "execute_result"
    }
   ],
   "source": [
    "df=data_train.copy()\n",
    "df['arima']=pd.NA\n",
    "total = len(df)\n",
    "step = 1\n",
    "model = arPipeline([ ('log',LogEndogTransformer()), ('ar',ARIMA(order=auto.order,seasonal_order=auto.seasonal_order,suppress_warnings=True))])  # Specify the appropriate order for the ARIMA model p,d,q\n",
    "for i in range(window_size, total):\n",
    "    train_data = df['Close'].iloc[i-window_size:i]  # Get the current window of data\n",
    "    model.fit(train_data)\n",
    "    next_observation = model.predict(pred_lapse)  # Forecast the next observation\n",
    "    df.iloc[i,df.columns.get_loc('arima')]=next_observation[-1]\n",
    "newdf=df.dropna()\n",
    "print(newdf['arima'])\n",
    "mean_absolute_percentage_error(newdf['arima'],newdf['4th Close'])*100\n"
   ]
  },
  {
   "cell_type": "markdown",
   "id": "36f9ba06",
   "metadata": {
    "papermill": {
     "duration": 0.01344,
     "end_time": "2023-05-18T15:16:57.024091",
     "exception": false,
     "start_time": "2023-05-18T15:16:57.010651",
     "status": "completed"
    },
    "tags": []
   },
   "source": [
    "Trying out an SVM without parameter optimization"
   ]
  },
  {
   "cell_type": "code",
   "execution_count": 9,
   "id": "4ba2f016",
   "metadata": {
    "execution": {
     "iopub.execute_input": "2023-05-18T15:16:57.053510Z",
     "iopub.status.busy": "2023-05-18T15:16:57.053001Z",
     "iopub.status.idle": "2023-05-18T15:16:57.078843Z",
     "shell.execute_reply": "2023-05-18T15:16:57.077387Z"
    },
    "papermill": {
     "duration": 0.044965,
     "end_time": "2023-05-18T15:16:57.082388",
     "exception": false,
     "start_time": "2023-05-18T15:16:57.037423",
     "status": "completed"
    },
    "tags": []
   },
   "outputs": [
    {
     "name": "stdout",
     "output_type": "stream",
     "text": [
      "13.484499899606813\n"
     ]
    }
   ],
   "source": [
    "from sklearn.svm import SVR\n",
    "from sklearn.preprocessing import StandardScaler\n",
    "from sklearn.pipeline import make_pipeline\n",
    "from sklearn.model_selection import train_test_split\n",
    "svm_features=['Open','High','Low','Close','arima','Volume']\n",
    "model2=make_pipeline(StandardScaler(),SVR(kernel='rbf'))\n",
    "X=newdf.drop('4th Close',axis=1)\n",
    "y=newdf['4th Close']\n",
    "X_train,X_test,y_train,y_test=train_test_split(X,y,test_size=0.2,shuffle=False)\n",
    "model2.fit(X_train,y_train)\n",
    "pred=model2.predict(X_test)\n",
    "print(mean_absolute_percentage_error(pred,y_test)*100)"
   ]
  },
  {
   "cell_type": "markdown",
   "id": "9fdbe12b",
   "metadata": {
    "papermill": {
     "duration": 0.013118,
     "end_time": "2023-05-18T15:16:57.110211",
     "exception": false,
     "start_time": "2023-05-18T15:16:57.097093",
     "status": "completed"
    },
    "tags": []
   },
   "source": [
    "define a fitness function for CSO to optimize"
   ]
  },
  {
   "cell_type": "code",
   "execution_count": 10,
   "id": "c433c19f",
   "metadata": {
    "execution": {
     "iopub.execute_input": "2023-05-18T15:16:57.138800Z",
     "iopub.status.busy": "2023-05-18T15:16:57.138273Z",
     "iopub.status.idle": "2023-05-18T15:16:57.147084Z",
     "shell.execute_reply": "2023-05-18T15:16:57.145487Z"
    },
    "papermill": {
     "duration": 0.026598,
     "end_time": "2023-05-18T15:16:57.150012",
     "exception": false,
     "start_time": "2023-05-18T15:16:57.123414",
     "status": "completed"
    },
    "tags": []
   },
   "outputs": [],
   "source": [
    "def fit_svr(X):\n",
    "    X.reshape(-1)\n",
    "    logC,epsilon=X\n",
    "    model=make_pipeline(StandardScaler(),SVR(C=10**logC,epsilon=epsilon,kernel='rbf'))\n",
    "    model.fit(X_train,y_train)\n",
    "    pred=model.predict(X_test)\n",
    "    return mean_absolute_percentage_error(pred,y_test)*100"
   ]
  },
  {
   "cell_type": "markdown",
   "id": "575af041",
   "metadata": {
    "papermill": {
     "duration": 0.013304,
     "end_time": "2023-05-18T15:16:57.177725",
     "exception": false,
     "start_time": "2023-05-18T15:16:57.164421",
     "status": "completed"
    },
    "tags": []
   },
   "source": [
    "parameter optimization"
   ]
  },
  {
   "cell_type": "code",
   "execution_count": 11,
   "id": "13e242ee",
   "metadata": {
    "execution": {
     "iopub.execute_input": "2023-05-18T15:16:57.206347Z",
     "iopub.status.busy": "2023-05-18T15:16:57.205815Z",
     "iopub.status.idle": "2023-05-18T15:16:57.229560Z",
     "shell.execute_reply": "2023-05-18T15:16:57.228015Z"
    },
    "papermill": {
     "duration": 0.042225,
     "end_time": "2023-05-18T15:16:57.233182",
     "exception": false,
     "start_time": "2023-05-18T15:16:57.190957",
     "status": "completed"
    },
    "tags": []
   },
   "outputs": [],
   "source": [
    "from cuckoo_discrete import CSO\n",
    "svr_cso=CSO(fit_svr,n=2,bound=[(0,4),(0.05,10)],P=20,Tmax=10)"
   ]
  },
  {
   "cell_type": "code",
   "execution_count": 12,
   "id": "3200f4ae",
   "metadata": {
    "execution": {
     "iopub.execute_input": "2023-05-18T15:16:57.261778Z",
     "iopub.status.busy": "2023-05-18T15:16:57.261347Z",
     "iopub.status.idle": "2023-05-18T15:17:06.820623Z",
     "shell.execute_reply": "2023-05-18T15:17:06.818429Z"
    },
    "papermill": {
     "duration": 9.576771,
     "end_time": "2023-05-18T15:17:06.823427",
     "exception": false,
     "start_time": "2023-05-18T15:16:57.246656",
     "status": "completed"
    },
    "tags": []
   },
   "outputs": [
    {
     "name": "stdout",
     "output_type": "stream",
     "text": [
      "\n",
      "OPTIMUM SOLUTION\n",
      "  > [2.5085728, 0.05]\n",
      "\n",
      "OPTIMUM FITNESS\n",
      "  > 4.9710034\n",
      "\n"
     ]
    }
   ],
   "source": [
    "svr_cso.execute()"
   ]
  },
  {
   "cell_type": "markdown",
   "id": "358e734d",
   "metadata": {
    "papermill": {
     "duration": 0.013153,
     "end_time": "2023-05-18T15:17:06.849777",
     "exception": false,
     "start_time": "2023-05-18T15:17:06.836624",
     "status": "completed"
    },
    "tags": []
   },
   "source": [
    "Making setup for final predictions\n"
   ]
  },
  {
   "cell_type": "code",
   "execution_count": 13,
   "id": "100fa424",
   "metadata": {
    "execution": {
     "iopub.execute_input": "2023-05-18T15:17:06.877873Z",
     "iopub.status.busy": "2023-05-18T15:17:06.877466Z",
     "iopub.status.idle": "2023-05-18T15:17:06.888716Z",
     "shell.execute_reply": "2023-05-18T15:17:06.887473Z"
    },
    "papermill": {
     "duration": 0.028694,
     "end_time": "2023-05-18T15:17:06.891436",
     "exception": false,
     "start_time": "2023-05-18T15:17:06.862742",
     "status": "completed"
    },
    "tags": []
   },
   "outputs": [],
   "source": [
    "X_test=data_test.drop('4th Close',axis=1)\n",
    "X_test['arima']=pd.NA\n",
    "y_new=data_test['Close']\n",
    "y_base=data_train['Close'].iloc[-99:]\n",
    "y_arima=pd.concat([y_base,y_new])\n",
    "predictions=pd.DataFrame(index=X_test.index,columns=['arima','svm-arima'])\n",
    "logC,epsilon=svr_cso.best"
   ]
  },
  {
   "cell_type": "code",
   "execution_count": 14,
   "id": "a3cf9419",
   "metadata": {
    "execution": {
     "iopub.execute_input": "2023-05-18T15:17:06.919875Z",
     "iopub.status.busy": "2023-05-18T15:17:06.919437Z",
     "iopub.status.idle": "2023-05-18T15:17:06.928462Z",
     "shell.execute_reply": "2023-05-18T15:17:06.926949Z"
    },
    "papermill": {
     "duration": 0.026842,
     "end_time": "2023-05-18T15:17:06.931240",
     "exception": false,
     "start_time": "2023-05-18T15:17:06.904398",
     "status": "completed"
    },
    "tags": []
   },
   "outputs": [
    {
     "name": "stdout",
     "output_type": "stream",
     "text": [
      "(157,)\n"
     ]
    },
    {
     "data": {
      "text/plain": [
       "58"
      ]
     },
     "execution_count": 14,
     "metadata": {},
     "output_type": "execute_result"
    }
   ],
   "source": [
    "print(y_arima.shape)\n",
    "len(X_test)"
   ]
  },
  {
   "cell_type": "markdown",
   "id": "290e94e1",
   "metadata": {
    "papermill": {
     "duration": 0.013646,
     "end_time": "2023-05-18T15:17:06.959696",
     "exception": false,
     "start_time": "2023-05-18T15:17:06.946050",
     "status": "completed"
    },
    "tags": []
   },
   "source": [
    "predicting on whole data"
   ]
  },
  {
   "cell_type": "code",
   "execution_count": null,
   "id": "43e03434",
   "metadata": {
    "papermill": {
     "duration": 0.01497,
     "end_time": "2023-05-18T15:17:06.988745",
     "exception": false,
     "start_time": "2023-05-18T15:17:06.973775",
     "status": "completed"
    },
    "tags": []
   },
   "outputs": [],
   "source": []
  },
  {
   "cell_type": "code",
   "execution_count": 15,
   "id": "18325bb8",
   "metadata": {
    "execution": {
     "iopub.execute_input": "2023-05-18T15:17:07.025394Z",
     "iopub.status.busy": "2023-05-18T15:17:07.024957Z",
     "iopub.status.idle": "2023-05-18T15:17:09.416862Z",
     "shell.execute_reply": "2023-05-18T15:17:09.415698Z"
    },
    "papermill": {
     "duration": 2.414021,
     "end_time": "2023-05-18T15:17:09.419702",
     "exception": false,
     "start_time": "2023-05-18T15:17:07.005681",
     "status": "completed"
    },
    "tags": []
   },
   "outputs": [],
   "source": [
    "n=len(data_test)\n",
    "df=pd.concat([data_train.iloc[-window_size:],data_test])\n",
    "predictions=pd.DataFrame(columns=['actual','arima-svm','arima'],index=df.index)\n",
    "X=df.drop('4th Close',axis=1).copy()\n",
    "X['arima']=pd.NA\n",
    "y=df['4th Close'].copy()\n",
    "\n",
    "arima_model = ARIMA(order=auto.order, seasonal_order=auto.seasonal_order, suppress_warnings=True)  # Specify the appropriate order for the ARIMA model p, d, q\n",
    "arima_model.fit(X.iloc[0:window_size,X.columns.get_loc('Close')])\n",
    "X.iloc[0:window_size,X.columns.get_loc('arima')]=arima_model.predict_in_sample()\n",
    "\n",
    "tscv=TimeSeriesSplit(n_splits=n,max_train_size=window_size,test_size=1,gap=0)\n",
    "# print(X.head(10))\n",
    "for train_index,test_index in tscv.split(df.index):\n",
    "#     print(train_index,test_index)\n",
    "    X_train,y_train=X.iloc[train_index],y.iloc[train_index]\n",
    "    X_test,y_test=X.iloc[test_index],y.iloc[test_index]\n",
    "    arima_model = ARIMA(order=auto.order, seasonal_order=(0, 0, 0, 0), suppress_warnings=True)  # Specify the appropriate order for the ARIMA model p, d, q\n",
    "    \n",
    "    y_arima=pd.concat([X_train['Close'],X_test['Close']])\n",
    "    arima_model.fit(X_train['Close'])\n",
    "    arima_preds=arima_model.predict(pred_lapse)\n",
    "    arima_prediction=arima_preds[-1]\n",
    "    X.iloc[test_index[-1],X.columns.get_loc('arima')]=arima_prediction\n",
    "#     print(arima_prediction)\n",
    "    predictions.iloc[test_index[-1],predictions.columns.get_loc('arima')]=arima_prediction\n",
    "    X_test,y_test=X.iloc[test_index],y.iloc[test_index]\n",
    "    svm_model=make_pipeline(StandardScaler(),SVR(C=10**logC,epsilon=epsilon,kernel='rbf'))\n",
    "    svm_model.fit(X_train,y_train)\n",
    "#     print(X_test)\n",
    "    svm_prediction=svm_model.predict(X_test)\n",
    "    predictions.iloc[test_index[-1],predictions.columns.get_loc('arima-svm')]=svm_prediction[0]\n",
    "    predictions.iloc[test_index[-1],predictions.columns.get_loc('actual')]=y_test.values[0]\n",
    "    \n",
    "    \n",
    "\n",
    "predictions=predictions.dropna()\n"
   ]
  },
  {
   "cell_type": "code",
   "execution_count": 16,
   "id": "2f05967e",
   "metadata": {
    "execution": {
     "iopub.execute_input": "2023-05-18T15:17:09.449670Z",
     "iopub.status.busy": "2023-05-18T15:17:09.448244Z",
     "iopub.status.idle": "2023-05-18T15:17:10.365410Z",
     "shell.execute_reply": "2023-05-18T15:17:10.364024Z"
    },
    "papermill": {
     "duration": 0.936939,
     "end_time": "2023-05-18T15:17:10.370222",
     "exception": false,
     "start_time": "2023-05-18T15:17:09.433283",
     "status": "completed"
    },
    "tags": []
   },
   "outputs": [
    {
     "name": "stdout",
     "output_type": "stream",
     "text": [
      "WINDOW SIZE: 52\n",
      "ARIMA RMSE: 168.08559803919005\n",
      "ARIMA-SVM RMSE: 149.06446729154706\n",
      "ARIMA MAE: 142.0921852880431\n",
      "ARIMA-SVM MAE: 116.45389519916564\n",
      "ARIMA MAPE: 5.729163651067001\n",
      "ARIMA-SVM MAPE: 4.673524232483747\n"
     ]
    },
    {
     "data": {
      "text/plain": [
       "Text(0.5, 1.0, 'RELIANCE.NS next month predictions')"
      ]
     },
     "execution_count": 16,
     "metadata": {},
     "output_type": "execute_result"
    },
    {
     "data": {
      "image/png": "[encoded data removed]",
      "text/plain": [
       "<Figure size 640x480 with 1 Axes>"
      ]
     },
     "metadata": {},
     "output_type": "display_data"
    }
   ],
   "source": [
    "from sklearn.metrics import mean_squared_error, mean_absolute_error\n",
    "import numpy as np\n",
    "\n",
    "# Calculate RMSE\n",
    "arima_rmse = mean_squared_error(predictions['arima'], predictions['actual'], squared=False)\n",
    "arima_svm_rmse = mean_squared_error(predictions['arima-svm'], predictions['actual'], squared=False)\n",
    "\n",
    "# Calculate MAE\n",
    "arima_mae = mean_absolute_error(predictions['arima'], predictions['actual'])\n",
    "arima_svm_mae = mean_absolute_error(predictions['arima-svm'], predictions['actual'])\n",
    "\n",
    "# Calculate MAPE\n",
    "arima_mape = np.mean(np.abs((predictions['actual'] - predictions['arima']) / predictions['actual'])) * 100\n",
    "arima_svm_mape = np.mean(np.abs((predictions['actual'] - predictions['arima-svm']) / predictions['actual'])) * 100\n",
    "\n",
    "# Print evaluation metrics\n",
    "print(\"WINDOW SIZE:\",window_size)\n",
    "print(\"ARIMA RMSE:\", arima_rmse)\n",
    "print(\"ARIMA-SVM RMSE:\", arima_svm_rmse)\n",
    "print(\"ARIMA MAE:\", arima_mae)\n",
    "print(\"ARIMA-SVM MAE:\", arima_svm_mae)\n",
    "print(\"ARIMA MAPE:\", arima_mape)\n",
    "print(\"ARIMA-SVM MAPE:\", arima_svm_mape)\n",
    "\n",
    "# Set plot title\n",
    "predictions.plot(style=['','-.','-.'])\n",
    "plt.title(ticker+' next month predictions')\n"
   ]
  },
  {
   "cell_type": "code",
   "execution_count": 17,
   "id": "2239d519",
   "metadata": {
    "execution": {
     "iopub.execute_input": "2023-05-18T15:17:10.403427Z",
     "iopub.status.busy": "2023-05-18T15:17:10.402699Z",
     "iopub.status.idle": "2023-05-18T15:17:10.410510Z",
     "shell.execute_reply": "2023-05-18T15:17:10.409185Z"
    },
    "papermill": {
     "duration": 0.026981,
     "end_time": "2023-05-18T15:17:10.412974",
     "exception": false,
     "start_time": "2023-05-18T15:17:10.385993",
     "status": "completed"
    },
    "tags": []
   },
   "outputs": [
    {
     "data": {
      "text/plain": [
       "58"
      ]
     },
     "execution_count": 17,
     "metadata": {},
     "output_type": "execute_result"
    }
   ],
   "source": [
    "len(predictions)\n",
    "len(data_test)"
   ]
  }
 ],
 "metadata": {
  "kernelspec": {
   "display_name": "Python 3",
   "language": "python",
   "name": "python3"
  },
  "language_info": {
   "codemirror_mode": {
    "name": "ipython",
    "version": 3
   },
   "file_extension": ".py",
   "mimetype": "text/x-python",
   "name": "python",
   "nbconvert_exporter": "python",
   "pygments_lexer": "ipython3",
   "version": "3.10.10"
  },
  "papermill": {
   "default_parameters": {},
   "duration": 74.886184,
   "end_time": "2023-05-18T15:17:11.754624",
   "environment_variables": {},
   "exception": null,
   "input_path": "__notebook__.ipynb",
   "output_path": "__notebook__.ipynb",
   "parameters": {},
   "start_time": "2023-05-18T15:15:56.868440",
   "version": "2.4.0"
  }
 },
 "nbformat": 4,
 "nbformat_minor": 5
}
